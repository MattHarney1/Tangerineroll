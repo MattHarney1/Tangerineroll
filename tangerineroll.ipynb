{
 "cells": [
  {
   "cell_type": "code",
   "execution_count": 3,
   "id": "1d0b03f0-c6ff-47e3-b89d-1f52c5522a5b",
   "metadata": {},
   "outputs": [],
   "source": [
    "import pandas as pd\n",
    "import matplotlib as pyplot"
   ]
  },
  {
   "cell_type": "code",
   "execution_count": 1,
   "id": "2fe526a6-7a15-40c9-9134-f72435c51b56",
   "metadata": {},
   "outputs": [
    {
     "name": "stdout",
     "output_type": "stream",
     "text": [
      "HELLO WORLD.\n"
     ]
    }
   ],
   "source": [
    "print(\"HELLO WORLD.\")"
   ]
  },
  {
   "cell_type": "code",
   "execution_count": 5,
   "id": "b1e0ce1d-7c05-458b-b2b8-b29177b94de4",
   "metadata": {},
   "outputs": [
    {
     "name": "stdout",
     "output_type": "stream",
     "text": [
      "You are in your late twenties\n"
     ]
    }
   ],
   "source": [
    "## Control Flow\n",
    "\n",
    "matt_age = 26\n",
    "\n",
    "if matt_age > 25:\n",
    "    print(\"You are in your late twenties\")\n",
    "else:\n",
    "    print(\"You are in your early to mid twenties\")"
   ]
  },
  {
   "cell_type": "code",
   "execution_count": 7,
   "id": "46dc3ce6-c9ce-4eef-bda1-610bef3f77a3",
   "metadata": {},
   "outputs": [
    {
     "name": "stdout",
     "output_type": "stream",
     "text": [
      "[29, 29, 25, 24]\n"
     ]
    }
   ],
   "source": [
    "## Data Structures\n",
    "\n",
    "arjollemilatt_ages = [29, 29, 25, 24]\n",
    "\n",
    "print(arjollemilatt_ages)"
   ]
  },
  {
   "cell_type": "code",
   "execution_count": 9,
   "id": "a3d3237d-9a55-4ec3-a76a-96117efa3eb6",
   "metadata": {},
   "outputs": [
    {
     "name": "stdout",
     "output_type": "stream",
     "text": [
      "MORE THAN 25\n",
      "MORE THAN 25\n"
     ]
    }
   ],
   "source": [
    "## Looping\n",
    "\n",
    "for age in arjollemilatt_ages:\n",
    "    if age > 25:\n",
    "        print(\"MORE THAN 25\")"
   ]
  },
  {
   "cell_type": "code",
   "execution_count": null,
   "id": "7bdee6eb-611c-44bf-8103-82e9094abd9f",
   "metadata": {},
   "outputs": [],
   "source": []
  }
 ],
 "metadata": {
  "kernelspec": {
   "display_name": "Python 3 (ipykernel)",
   "language": "python",
   "name": "python3"
  },
  "language_info": {
   "codemirror_mode": {
    "name": "ipython",
    "version": 3
   },
   "file_extension": ".py",
   "mimetype": "text/x-python",
   "name": "python",
   "nbconvert_exporter": "python",
   "pygments_lexer": "ipython3",
   "version": "3.9.13"
  }
 },
 "nbformat": 4,
 "nbformat_minor": 5
}
